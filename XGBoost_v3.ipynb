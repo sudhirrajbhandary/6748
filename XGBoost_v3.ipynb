{
 "cells": [
  {
   "cell_type": "code",
   "execution_count": 1,
   "id": "98f48462-70a0-4959-a7ef-30054344b021",
   "metadata": {},
   "outputs": [],
   "source": [
    "from sklearn.linear_model import LogisticRegression\n",
    "from sklearn.feature_extraction.text import TfidfVectorizer\n",
    "from sklearn.model_selection import train_test_split,cross_val_predict,cross_val_score\n",
    "from sklearn.preprocessing import StandardScaler\n",
    "from scipy.sparse import hstack\n",
    "import pandas as pd\n",
    "import numpy as np\n",
    "from mlxtend.feature_selection import SequentialFeatureSelector\n",
    "from sklearn.metrics import classification_report,\n",
    "from sklearn.feature_selection import SelectKBest, chi2\n",
    "import statsmodels.api as sm\n",
    "from sklearn.model_selection import GridSearchCV\n",
    "import warnings\n",
    "from xgboost import XGBClassifier\n",
    "from sklearn.preprocessing import LabelEncoder\n",
    "from sklearn.metrics import accuracy_score"
   ]
  },
  {
   "cell_type": "code",
   "execution_count": 2,
   "id": "f05f952a-ccb2-461e-9d43-6135b7454077",
   "metadata": {},
   "outputs": [],
   "source": [
    "warnings.filterwarnings('ignore')"
   ]
  },
  {
   "cell_type": "code",
   "execution_count": 3,
   "id": "76b3dc4d-af9e-469e-af6c-e0e43768b150",
   "metadata": {},
   "outputs": [
    {
     "data": {
      "text/html": [
       "<div>\n",
       "<style scoped>\n",
       "    .dataframe tbody tr th:only-of-type {\n",
       "        vertical-align: middle;\n",
       "    }\n",
       "\n",
       "    .dataframe tbody tr th {\n",
       "        vertical-align: top;\n",
       "    }\n",
       "\n",
       "    .dataframe thead th {\n",
       "        text-align: right;\n",
       "    }\n",
       "</style>\n",
       "<table border=\"1\" class=\"dataframe\">\n",
       "  <thead>\n",
       "    <tr style=\"text-align: right;\">\n",
       "      <th></th>\n",
       "      <th>id</th>\n",
       "      <th>title</th>\n",
       "      <th>vote_average</th>\n",
       "      <th>vote_count</th>\n",
       "      <th>status</th>\n",
       "      <th>release_date</th>\n",
       "      <th>revenue</th>\n",
       "      <th>runtime</th>\n",
       "      <th>adult</th>\n",
       "      <th>budget</th>\n",
       "      <th>...</th>\n",
       "      <th>dir_flop</th>\n",
       "      <th>actor_total</th>\n",
       "      <th>actor_blockbuster</th>\n",
       "      <th>actor_success</th>\n",
       "      <th>actor_flop</th>\n",
       "      <th>dir_act_total</th>\n",
       "      <th>dir_act_blockbuster</th>\n",
       "      <th>dir_act_success</th>\n",
       "      <th>dir_act_flop</th>\n",
       "      <th>dataset</th>\n",
       "    </tr>\n",
       "  </thead>\n",
       "  <tbody>\n",
       "    <tr>\n",
       "      <th>0</th>\n",
       "      <td>42816</td>\n",
       "      <td>The Champ</td>\n",
       "      <td>7.023</td>\n",
       "      <td>43</td>\n",
       "      <td>Released</td>\n",
       "      <td>11/21/1931</td>\n",
       "      <td>1600000</td>\n",
       "      <td>86</td>\n",
       "      <td>False</td>\n",
       "      <td>356000</td>\n",
       "      <td>...</td>\n",
       "      <td>NaN</td>\n",
       "      <td>1.0</td>\n",
       "      <td>NaN</td>\n",
       "      <td>1.0</td>\n",
       "      <td>NaN</td>\n",
       "      <td>NaN</td>\n",
       "      <td>NaN</td>\n",
       "      <td>NaN</td>\n",
       "      <td>NaN</td>\n",
       "      <td>test</td>\n",
       "    </tr>\n",
       "    <tr>\n",
       "      <th>1</th>\n",
       "      <td>15467</td>\n",
       "      <td>Kismat Konnection</td>\n",
       "      <td>4.972</td>\n",
       "      <td>53</td>\n",
       "      <td>Released</td>\n",
       "      <td>7/18/2008</td>\n",
       "      <td>11000000</td>\n",
       "      <td>153</td>\n",
       "      <td>False</td>\n",
       "      <td>4180000</td>\n",
       "      <td>...</td>\n",
       "      <td>NaN</td>\n",
       "      <td>8.0</td>\n",
       "      <td>1.0</td>\n",
       "      <td>6.0</td>\n",
       "      <td>NaN</td>\n",
       "      <td>NaN</td>\n",
       "      <td>NaN</td>\n",
       "      <td>NaN</td>\n",
       "      <td>NaN</td>\n",
       "      <td>test</td>\n",
       "    </tr>\n",
       "    <tr>\n",
       "      <th>2</th>\n",
       "      <td>623010</td>\n",
       "      <td>Timecrowave</td>\n",
       "      <td>0.000</td>\n",
       "      <td>0</td>\n",
       "      <td>Released</td>\n",
       "      <td>5/9/2018</td>\n",
       "      <td>1000</td>\n",
       "      <td>13</td>\n",
       "      <td>False</td>\n",
       "      <td>500</td>\n",
       "      <td>...</td>\n",
       "      <td>NaN</td>\n",
       "      <td>2.0</td>\n",
       "      <td>NaN</td>\n",
       "      <td>2.0</td>\n",
       "      <td>NaN</td>\n",
       "      <td>2.0</td>\n",
       "      <td>NaN</td>\n",
       "      <td>2.0</td>\n",
       "      <td>NaN</td>\n",
       "      <td>test</td>\n",
       "    </tr>\n",
       "    <tr>\n",
       "      <th>3</th>\n",
       "      <td>258832</td>\n",
       "      <td>Convention City</td>\n",
       "      <td>1.000</td>\n",
       "      <td>1</td>\n",
       "      <td>Released</td>\n",
       "      <td>12/14/1933</td>\n",
       "      <td>522000</td>\n",
       "      <td>69</td>\n",
       "      <td>False</td>\n",
       "      <td>239000</td>\n",
       "      <td>...</td>\n",
       "      <td>1.0</td>\n",
       "      <td>1.0</td>\n",
       "      <td>NaN</td>\n",
       "      <td>NaN</td>\n",
       "      <td>NaN</td>\n",
       "      <td>NaN</td>\n",
       "      <td>NaN</td>\n",
       "      <td>NaN</td>\n",
       "      <td>NaN</td>\n",
       "      <td>test</td>\n",
       "    </tr>\n",
       "    <tr>\n",
       "      <th>4</th>\n",
       "      <td>45272</td>\n",
       "      <td>Country Strong</td>\n",
       "      <td>6.195</td>\n",
       "      <td>230</td>\n",
       "      <td>Released</td>\n",
       "      <td>12/22/2010</td>\n",
       "      <td>20601987</td>\n",
       "      <td>117</td>\n",
       "      <td>False</td>\n",
       "      <td>15000000</td>\n",
       "      <td>...</td>\n",
       "      <td>1.0</td>\n",
       "      <td>1.0</td>\n",
       "      <td>NaN</td>\n",
       "      <td>NaN</td>\n",
       "      <td>NaN</td>\n",
       "      <td>NaN</td>\n",
       "      <td>NaN</td>\n",
       "      <td>NaN</td>\n",
       "      <td>NaN</td>\n",
       "      <td>test</td>\n",
       "    </tr>\n",
       "  </tbody>\n",
       "</table>\n",
       "<p>5 rows × 97 columns</p>\n",
       "</div>"
      ],
      "text/plain": [
       "       id              title  vote_average  vote_count    status release_date  \\\n",
       "0   42816          The Champ         7.023          43  Released   11/21/1931   \n",
       "1   15467  Kismat Konnection         4.972          53  Released    7/18/2008   \n",
       "2  623010        Timecrowave         0.000           0  Released     5/9/2018   \n",
       "3  258832    Convention City         1.000           1  Released   12/14/1933   \n",
       "4   45272     Country Strong         6.195         230  Released   12/22/2010   \n",
       "\n",
       "    revenue  runtime  adult    budget  ... dir_flop actor_total  \\\n",
       "0   1600000       86  False    356000  ...      NaN         1.0   \n",
       "1  11000000      153  False   4180000  ...      NaN         8.0   \n",
       "2      1000       13  False       500  ...      NaN         2.0   \n",
       "3    522000       69  False    239000  ...      1.0         1.0   \n",
       "4  20601987      117  False  15000000  ...      1.0         1.0   \n",
       "\n",
       "  actor_blockbuster actor_success  actor_flop dir_act_total  \\\n",
       "0               NaN           1.0         NaN           NaN   \n",
       "1               1.0           6.0         NaN           NaN   \n",
       "2               NaN           2.0         NaN           2.0   \n",
       "3               NaN           NaN         NaN           NaN   \n",
       "4               NaN           NaN         NaN           NaN   \n",
       "\n",
       "  dir_act_blockbuster dir_act_success dir_act_flop dataset  \n",
       "0                 NaN             NaN          NaN    test  \n",
       "1                 NaN             NaN          NaN    test  \n",
       "2                 NaN             2.0          NaN    test  \n",
       "3                 NaN             NaN          NaN    test  \n",
       "4                 NaN             NaN          NaN    test  \n",
       "\n",
       "[5 rows x 97 columns]"
      ]
     },
     "execution_count": 3,
     "metadata": {},
     "output_type": "execute_result"
    }
   ],
   "source": [
    "data = pd.read_csv(\"combined_df.csv\")\n",
    "data.head()"
   ]
  },
  {
   "cell_type": "code",
   "execution_count": 4,
   "id": "6eea460d-e93f-4229-ac38-13c571399b0e",
   "metadata": {},
   "outputs": [
    {
     "data": {
      "text/plain": [
       "array(['test', 'train', 'validation', nan], dtype=object)"
      ]
     },
     "execution_count": 4,
     "metadata": {},
     "output_type": "execute_result"
    }
   ],
   "source": [
    "data['dataset'].unique()"
   ]
  },
  {
   "cell_type": "code",
   "execution_count": 5,
   "id": "6d668fc8-8148-480f-93e1-4976e44d179a",
   "metadata": {},
   "outputs": [
    {
     "data": {
      "text/plain": [
       "1175.267"
      ]
     },
     "execution_count": 5,
     "metadata": {},
     "output_type": "execute_result"
    }
   ],
   "source": [
    "max_popularity = data['popularity'].max()\n",
    "max_popularity"
   ]
  },
  {
   "cell_type": "code",
   "execution_count": 6,
   "id": "ece4a105-25ab-4ec1-b309-040f6b31b465",
   "metadata": {},
   "outputs": [],
   "source": [
    "data['popularity_pct'] = (data['popularity']*100)/max_popularity"
   ]
  },
  {
   "cell_type": "code",
   "execution_count": 7,
   "id": "cb5c6168-3879-4ec1-bb3a-9a6e7e1c84fb",
   "metadata": {},
   "outputs": [
    {
     "data": {
      "text/plain": [
       "0.0"
      ]
     },
     "execution_count": 7,
     "metadata": {},
     "output_type": "execute_result"
    }
   ],
   "source": [
    "columns_to_display = ['popularity', 'popularity_pct']  # Specify the columns you want to display\n",
    "data[columns_to_display].head()\n",
    "data['popularity_pct'].min()"
   ]
  },
  {
   "cell_type": "code",
   "execution_count": 8,
   "id": "4bd550f2-87d2-4a33-86d0-f25eb225ba4a",
   "metadata": {},
   "outputs": [
    {
     "data": {
      "text/html": [
       "<div>\n",
       "<style scoped>\n",
       "    .dataframe tbody tr th:only-of-type {\n",
       "        vertical-align: middle;\n",
       "    }\n",
       "\n",
       "    .dataframe tbody tr th {\n",
       "        vertical-align: top;\n",
       "    }\n",
       "\n",
       "    .dataframe thead th {\n",
       "        text-align: right;\n",
       "    }\n",
       "</style>\n",
       "<table border=\"1\" class=\"dataframe\">\n",
       "  <thead>\n",
       "    <tr style=\"text-align: right;\">\n",
       "      <th></th>\n",
       "      <th>id</th>\n",
       "      <th>title</th>\n",
       "      <th>vote_average</th>\n",
       "      <th>vote_count</th>\n",
       "      <th>status</th>\n",
       "      <th>release_date</th>\n",
       "      <th>revenue</th>\n",
       "      <th>runtime</th>\n",
       "      <th>adult</th>\n",
       "      <th>budget</th>\n",
       "      <th>...</th>\n",
       "      <th>actor_blockbuster</th>\n",
       "      <th>actor_success</th>\n",
       "      <th>actor_flop</th>\n",
       "      <th>dir_act_total</th>\n",
       "      <th>dir_act_blockbuster</th>\n",
       "      <th>dir_act_success</th>\n",
       "      <th>dir_act_flop</th>\n",
       "      <th>dataset</th>\n",
       "      <th>popularity_pct</th>\n",
       "      <th>avg_rating</th>\n",
       "    </tr>\n",
       "  </thead>\n",
       "  <tbody>\n",
       "    <tr>\n",
       "      <th>0</th>\n",
       "      <td>42816</td>\n",
       "      <td>The Champ</td>\n",
       "      <td>7.023</td>\n",
       "      <td>43</td>\n",
       "      <td>Released</td>\n",
       "      <td>11/21/1931</td>\n",
       "      <td>1600000</td>\n",
       "      <td>86</td>\n",
       "      <td>False</td>\n",
       "      <td>356000</td>\n",
       "      <td>...</td>\n",
       "      <td>NaN</td>\n",
       "      <td>1.0</td>\n",
       "      <td>NaN</td>\n",
       "      <td>NaN</td>\n",
       "      <td>NaN</td>\n",
       "      <td>NaN</td>\n",
       "      <td>NaN</td>\n",
       "      <td>test</td>\n",
       "      <td>0.514692</td>\n",
       "      <td>3.537235</td>\n",
       "    </tr>\n",
       "    <tr>\n",
       "      <th>1</th>\n",
       "      <td>15467</td>\n",
       "      <td>Kismat Konnection</td>\n",
       "      <td>4.972</td>\n",
       "      <td>53</td>\n",
       "      <td>Released</td>\n",
       "      <td>7/18/2008</td>\n",
       "      <td>11000000</td>\n",
       "      <td>153</td>\n",
       "      <td>False</td>\n",
       "      <td>4180000</td>\n",
       "      <td>...</td>\n",
       "      <td>1.0</td>\n",
       "      <td>6.0</td>\n",
       "      <td>NaN</td>\n",
       "      <td>NaN</td>\n",
       "      <td>NaN</td>\n",
       "      <td>NaN</td>\n",
       "      <td>NaN</td>\n",
       "      <td>test</td>\n",
       "      <td>0.396165</td>\n",
       "      <td>2.505808</td>\n",
       "    </tr>\n",
       "    <tr>\n",
       "      <th>2</th>\n",
       "      <td>623010</td>\n",
       "      <td>Timecrowave</td>\n",
       "      <td>0.000</td>\n",
       "      <td>0</td>\n",
       "      <td>Released</td>\n",
       "      <td>5/9/2018</td>\n",
       "      <td>1000</td>\n",
       "      <td>13</td>\n",
       "      <td>False</td>\n",
       "      <td>500</td>\n",
       "      <td>...</td>\n",
       "      <td>NaN</td>\n",
       "      <td>2.0</td>\n",
       "      <td>NaN</td>\n",
       "      <td>2.0</td>\n",
       "      <td>NaN</td>\n",
       "      <td>2.0</td>\n",
       "      <td>NaN</td>\n",
       "      <td>test</td>\n",
       "      <td>0.051052</td>\n",
       "      <td>0.002553</td>\n",
       "    </tr>\n",
       "    <tr>\n",
       "      <th>3</th>\n",
       "      <td>258832</td>\n",
       "      <td>Convention City</td>\n",
       "      <td>1.000</td>\n",
       "      <td>1</td>\n",
       "      <td>Released</td>\n",
       "      <td>12/14/1933</td>\n",
       "      <td>522000</td>\n",
       "      <td>69</td>\n",
       "      <td>False</td>\n",
       "      <td>239000</td>\n",
       "      <td>...</td>\n",
       "      <td>NaN</td>\n",
       "      <td>NaN</td>\n",
       "      <td>NaN</td>\n",
       "      <td>NaN</td>\n",
       "      <td>NaN</td>\n",
       "      <td>NaN</td>\n",
       "      <td>NaN</td>\n",
       "      <td>test</td>\n",
       "      <td>0.111294</td>\n",
       "      <td>0.505565</td>\n",
       "    </tr>\n",
       "    <tr>\n",
       "      <th>4</th>\n",
       "      <td>45272</td>\n",
       "      <td>Country Strong</td>\n",
       "      <td>6.195</td>\n",
       "      <td>230</td>\n",
       "      <td>Released</td>\n",
       "      <td>12/22/2010</td>\n",
       "      <td>20601987</td>\n",
       "      <td>117</td>\n",
       "      <td>False</td>\n",
       "      <td>15000000</td>\n",
       "      <td>...</td>\n",
       "      <td>NaN</td>\n",
       "      <td>NaN</td>\n",
       "      <td>NaN</td>\n",
       "      <td>NaN</td>\n",
       "      <td>NaN</td>\n",
       "      <td>NaN</td>\n",
       "      <td>NaN</td>\n",
       "      <td>test</td>\n",
       "      <td>1.003432</td>\n",
       "      <td>3.147672</td>\n",
       "    </tr>\n",
       "  </tbody>\n",
       "</table>\n",
       "<p>5 rows × 99 columns</p>\n",
       "</div>"
      ],
      "text/plain": [
       "       id              title  vote_average  vote_count    status release_date  \\\n",
       "0   42816          The Champ         7.023          43  Released   11/21/1931   \n",
       "1   15467  Kismat Konnection         4.972          53  Released    7/18/2008   \n",
       "2  623010        Timecrowave         0.000           0  Released     5/9/2018   \n",
       "3  258832    Convention City         1.000           1  Released   12/14/1933   \n",
       "4   45272     Country Strong         6.195         230  Released   12/22/2010   \n",
       "\n",
       "    revenue  runtime  adult    budget  ... actor_blockbuster actor_success  \\\n",
       "0   1600000       86  False    356000  ...               NaN           1.0   \n",
       "1  11000000      153  False   4180000  ...               1.0           6.0   \n",
       "2      1000       13  False       500  ...               NaN           2.0   \n",
       "3    522000       69  False    239000  ...               NaN           NaN   \n",
       "4  20601987      117  False  15000000  ...               NaN           NaN   \n",
       "\n",
       "  actor_flop dir_act_total  dir_act_blockbuster dir_act_success dir_act_flop  \\\n",
       "0        NaN           NaN                  NaN             NaN          NaN   \n",
       "1        NaN           NaN                  NaN             NaN          NaN   \n",
       "2        NaN           2.0                  NaN             2.0          NaN   \n",
       "3        NaN           NaN                  NaN             NaN          NaN   \n",
       "4        NaN           NaN                  NaN             NaN          NaN   \n",
       "\n",
       "  dataset popularity_pct avg_rating  \n",
       "0    test       0.514692   3.537235  \n",
       "1    test       0.396165   2.505808  \n",
       "2    test       0.051052   0.002553  \n",
       "3    test       0.111294   0.505565  \n",
       "4    test       1.003432   3.147672  \n",
       "\n",
       "[5 rows x 99 columns]"
      ]
     },
     "execution_count": 8,
     "metadata": {},
     "output_type": "execute_result"
    }
   ],
   "source": [
    "data['avg_rating'] = (data['vote_average']+ (data['popularity_pct']/10))/2\n",
    "data.head()"
   ]
  },
  {
   "cell_type": "code",
   "execution_count": 9,
   "id": "56ee4638-8e11-4d65-afc8-306eaf2fed52",
   "metadata": {},
   "outputs": [],
   "source": [
    "train_data = data[data['dataset'] == 'train']\n",
    "validate_data = data[data['dataset'] == 'validation']\n",
    "test_data = data[data['dataset'] == 'test']"
   ]
  },
  {
   "cell_type": "code",
   "execution_count": 10,
   "id": "74aa2d97-d23c-4626-b0c9-4889542431c8",
   "metadata": {},
   "outputs": [
    {
     "data": {
      "text/plain": [
       "success_level\n",
       "Success        3177\n",
       "Flop           3074\n",
       "Blockbuster    1929\n",
       "Name: count, dtype: int64"
      ]
     },
     "execution_count": 10,
     "metadata": {},
     "output_type": "execute_result"
    }
   ],
   "source": [
    "train_data['success_level'].value_counts()"
   ]
  },
  {
   "cell_type": "code",
   "execution_count": 11,
   "id": "cb179042-8070-4017-be3d-c23535715eb6",
   "metadata": {},
   "outputs": [
    {
     "data": {
      "text/plain": [
       "Index(['id', 'title', 'vote_average', 'vote_count', 'status', 'release_date',\n",
       "       'revenue', 'runtime', 'adult', 'budget', 'imdb_id', 'original_language',\n",
       "       'original_title', 'overview', 'popularity', 'tagline', 'genres',\n",
       "       'production_companies', 'production_countries', 'spoken_languages',\n",
       "       'keywords', 'budget_millions', 'revenue_millions', 'profit', 'Action',\n",
       "       'Adventure', 'Animation', 'Comedy', 'Crime', 'Documentary', 'Drama',\n",
       "       'Family', 'Fantasy', 'History', 'Horror', 'Music', 'Mystery', 'Romance',\n",
       "       'Science Fiction', 'TV Movie', 'Thriller', 'War', 'Western',\n",
       "       'production_companies_20th Century Fox',\n",
       "       'production_companies_Columbia Pictures',\n",
       "       'production_companies_Metro-Goldwyn-Mayer',\n",
       "       'production_companies_New Line Cinema',\n",
       "       'production_companies_Paramount',\n",
       "       'production_companies_Universal Pictures',\n",
       "       'production_companies_Walt Disney Pictures',\n",
       "       'production_companies_Warner Bros. Pictures',\n",
       "       'production_companies_other', 'Mapped Value_Africa',\n",
       "       'Mapped Value_Asia', 'Mapped Value_Australia', 'Mapped Value_Europe',\n",
       "       'Mapped Value_France', 'Mapped Value_Germany', 'Mapped Value_India',\n",
       "       'Mapped Value_North America', 'Mapped Value_South America',\n",
       "       'Mapped Value_United Kingdom', 'Mapped Value_United States of America',\n",
       "       'spoken_languages_English', 'spoken_languages_French',\n",
       "       'spoken_languages_Spanish', 'spoken_languages_other', 'directors',\n",
       "       'writers', 'director1', 'director2', 'director_remaining', 'dir1Name',\n",
       "       'dir2Name', 'ordering_x', 'actor1Name', 'ordering_y', 'actor2Name',\n",
       "       'roi', 'movie_category', 'budget_levels', 'popularity_tiers',\n",
       "       'success_level', 'director1_actor1Name', 'dir_total', 'dir_blockbuster',\n",
       "       'dir_success', 'dir_flop', 'actor_total', 'actor_blockbuster',\n",
       "       'actor_success', 'actor_flop', 'dir_act_total', 'dir_act_blockbuster',\n",
       "       'dir_act_success', 'dir_act_flop', 'dataset', 'popularity_pct',\n",
       "       'avg_rating'],\n",
       "      dtype='object')"
      ]
     },
     "execution_count": 11,
     "metadata": {},
     "output_type": "execute_result"
    }
   ],
   "source": [
    "train_data.columns"
   ]
  },
  {
   "cell_type": "code",
   "execution_count": 12,
   "id": "44965035-e1f7-4ceb-a974-3c6cc00a20af",
   "metadata": {},
   "outputs": [
    {
     "data": {
      "text/plain": [
       "(1752, 99)"
      ]
     },
     "execution_count": 12,
     "metadata": {},
     "output_type": "execute_result"
    }
   ],
   "source": [
    "validate_data.shape"
   ]
  },
  {
   "cell_type": "code",
   "execution_count": 13,
   "id": "2adfcbca-3ef4-4d8e-b688-ccb96e25ab45",
   "metadata": {},
   "outputs": [
    {
     "data": {
      "text/plain": [
       "(1753, 99)"
      ]
     },
     "execution_count": 13,
     "metadata": {},
     "output_type": "execute_result"
    }
   ],
   "source": [
    "test_data.shape"
   ]
  },
  {
   "cell_type": "code",
   "execution_count": 14,
   "id": "571408e0-dcf4-4ed8-9d25-8ace436d31c5",
   "metadata": {},
   "outputs": [
    {
     "data": {
      "text/html": [
       "<div>\n",
       "<style scoped>\n",
       "    .dataframe tbody tr th:only-of-type {\n",
       "        vertical-align: middle;\n",
       "    }\n",
       "\n",
       "    .dataframe tbody tr th {\n",
       "        vertical-align: top;\n",
       "    }\n",
       "\n",
       "    .dataframe thead th {\n",
       "        text-align: right;\n",
       "    }\n",
       "</style>\n",
       "<table border=\"1\" class=\"dataframe\">\n",
       "  <thead>\n",
       "    <tr style=\"text-align: right;\">\n",
       "      <th></th>\n",
       "      <th>id</th>\n",
       "      <th>title</th>\n",
       "      <th>vote_average</th>\n",
       "      <th>vote_count</th>\n",
       "      <th>status</th>\n",
       "      <th>release_date</th>\n",
       "      <th>revenue</th>\n",
       "      <th>runtime</th>\n",
       "      <th>adult</th>\n",
       "      <th>budget</th>\n",
       "      <th>...</th>\n",
       "      <th>actor_blockbuster</th>\n",
       "      <th>actor_success</th>\n",
       "      <th>actor_flop</th>\n",
       "      <th>dir_act_total</th>\n",
       "      <th>dir_act_blockbuster</th>\n",
       "      <th>dir_act_success</th>\n",
       "      <th>dir_act_flop</th>\n",
       "      <th>dataset</th>\n",
       "      <th>popularity_pct</th>\n",
       "      <th>avg_rating</th>\n",
       "    </tr>\n",
       "  </thead>\n",
       "  <tbody>\n",
       "    <tr>\n",
       "      <th>11685</th>\n",
       "      <td>214674</td>\n",
       "      <td>Zone Pro Site: The Moveable Feast</td>\n",
       "      <td>6.3</td>\n",
       "      <td>18</td>\n",
       "      <td>Released</td>\n",
       "      <td>8/16/2013</td>\n",
       "      <td>11074988</td>\n",
       "      <td>145</td>\n",
       "      <td>False</td>\n",
       "      <td>2500803</td>\n",
       "      <td>...</td>\n",
       "      <td>NaN</td>\n",
       "      <td>NaN</td>\n",
       "      <td>NaN</td>\n",
       "      <td>NaN</td>\n",
       "      <td>NaN</td>\n",
       "      <td>NaN</td>\n",
       "      <td>NaN</td>\n",
       "      <td>NaN</td>\n",
       "      <td>0.219099</td>\n",
       "      <td>3.160955</td>\n",
       "    </tr>\n",
       "  </tbody>\n",
       "</table>\n",
       "<p>1 rows × 99 columns</p>\n",
       "</div>"
      ],
      "text/plain": [
       "           id                              title  vote_average  vote_count  \\\n",
       "11685  214674  Zone Pro Site: The Moveable Feast           6.3          18   \n",
       "\n",
       "         status release_date   revenue  runtime  adult   budget  ...  \\\n",
       "11685  Released    8/16/2013  11074988      145  False  2500803  ...   \n",
       "\n",
       "      actor_blockbuster actor_success actor_flop dir_act_total  \\\n",
       "11685               NaN           NaN        NaN           NaN   \n",
       "\n",
       "       dir_act_blockbuster dir_act_success dir_act_flop dataset  \\\n",
       "11685                  NaN             NaN          NaN     NaN   \n",
       "\n",
       "      popularity_pct avg_rating  \n",
       "11685       0.219099   3.160955  \n",
       "\n",
       "[1 rows x 99 columns]"
      ]
     },
     "execution_count": 14,
     "metadata": {},
     "output_type": "execute_result"
    }
   ],
   "source": [
    "data[data['dataset'].isnull()]"
   ]
  },
  {
   "cell_type": "code",
   "execution_count": 33,
   "id": "e4a4efd8-cece-48cb-a06c-f1c49ce0878f",
   "metadata": {},
   "outputs": [
    {
     "data": {
      "text/plain": [
       "id                   int64\n",
       "title               object\n",
       "vote_average       float64\n",
       "vote_count           int64\n",
       "status              object\n",
       "                    ...   \n",
       "dir_act_success    float64\n",
       "dir_act_flop       float64\n",
       "dataset             object\n",
       "popularity_pct     float64\n",
       "avg_rating         float64\n",
       "Length: 99, dtype: object"
      ]
     },
     "execution_count": 33,
     "metadata": {},
     "output_type": "execute_result"
    }
   ],
   "source": [
    "train_data.dtypes"
   ]
  },
  {
   "cell_type": "code",
   "execution_count": 27,
   "id": "64c31a65-0def-41b5-901d-70d01946e248",
   "metadata": {},
   "outputs": [],
   "source": [
    "\n",
    "\n",
    "# List of text columns to keep\n",
    "columns_to_keep = ['actor1Name','dir1Name','success_level']\n",
    "\n",
    "# Identify all columns with text (object) data type\n",
    "text_columns = train_data.select_dtypes(include=['object']).columns\n",
    "\n",
    "# Drop text columns except the ones in the keep list\n",
    "columns_to_drop = [col for col in text_columns if col not in columns_to_keep]\n",
    "train_filtered = train_data.drop(columns=columns_to_drop)\n"
   ]
  },
  {
   "cell_type": "code",
   "execution_count": 35,
   "id": "7063b44f-bcf4-49db-b76e-167a2a55735a",
   "metadata": {},
   "outputs": [
    {
     "data": {
      "text/plain": [
       "id                       int64\n",
       "vote_average           float64\n",
       "vote_count               int64\n",
       "revenue                  int64\n",
       "runtime                  int64\n",
       "                        ...   \n",
       "dir_act_blockbuster    float64\n",
       "dir_act_success        float64\n",
       "dir_act_flop           float64\n",
       "popularity_pct         float64\n",
       "avg_rating             float64\n",
       "Length: 74, dtype: object"
      ]
     },
     "execution_count": 35,
     "metadata": {},
     "output_type": "execute_result"
    }
   ],
   "source": [
    "train_filtered.dtypes"
   ]
  },
  {
   "cell_type": "code",
   "execution_count": 65,
   "id": "25fe6020-6bb4-4d39-b330-361ca333f531",
   "metadata": {},
   "outputs": [
    {
     "data": {
      "text/html": [
       "<div>\n",
       "<style scoped>\n",
       "    .dataframe tbody tr th:only-of-type {\n",
       "        vertical-align: middle;\n",
       "    }\n",
       "\n",
       "    .dataframe tbody tr th {\n",
       "        vertical-align: top;\n",
       "    }\n",
       "\n",
       "    .dataframe thead th {\n",
       "        text-align: right;\n",
       "    }\n",
       "</style>\n",
       "<table border=\"1\" class=\"dataframe\">\n",
       "  <thead>\n",
       "    <tr style=\"text-align: right;\">\n",
       "      <th></th>\n",
       "      <th>runtime</th>\n",
       "      <th>adult</th>\n",
       "      <th>budget</th>\n",
       "      <th>profit</th>\n",
       "      <th>Action</th>\n",
       "      <th>Adventure</th>\n",
       "      <th>Animation</th>\n",
       "      <th>Comedy</th>\n",
       "      <th>Crime</th>\n",
       "      <th>Documentary</th>\n",
       "      <th>...</th>\n",
       "      <th>actor_total</th>\n",
       "      <th>actor_blockbuster</th>\n",
       "      <th>actor_success</th>\n",
       "      <th>actor_flop</th>\n",
       "      <th>dir_act_total</th>\n",
       "      <th>dir_act_blockbuster</th>\n",
       "      <th>dir_act_success</th>\n",
       "      <th>dir_act_flop</th>\n",
       "      <th>popularity_pct</th>\n",
       "      <th>avg_rating</th>\n",
       "    </tr>\n",
       "  </thead>\n",
       "  <tbody>\n",
       "    <tr>\n",
       "      <th>1753</th>\n",
       "      <td>88</td>\n",
       "      <td>False</td>\n",
       "      <td>30000000</td>\n",
       "      <td>-17048912</td>\n",
       "      <td>1</td>\n",
       "      <td>0</td>\n",
       "      <td>0</td>\n",
       "      <td>0</td>\n",
       "      <td>0</td>\n",
       "      <td>0</td>\n",
       "      <td>...</td>\n",
       "      <td>7.0</td>\n",
       "      <td>1.000000</td>\n",
       "      <td>2.000000</td>\n",
       "      <td>4.000000</td>\n",
       "      <td>1.0</td>\n",
       "      <td>1.384421</td>\n",
       "      <td>1.216352</td>\n",
       "      <td>1.00000</td>\n",
       "      <td>1.056015</td>\n",
       "      <td>3.199801</td>\n",
       "    </tr>\n",
       "    <tr>\n",
       "      <th>1754</th>\n",
       "      <td>130</td>\n",
       "      <td>False</td>\n",
       "      <td>1288000</td>\n",
       "      <td>6304465</td>\n",
       "      <td>0</td>\n",
       "      <td>0</td>\n",
       "      <td>0</td>\n",
       "      <td>0</td>\n",
       "      <td>0</td>\n",
       "      <td>0</td>\n",
       "      <td>...</td>\n",
       "      <td>5.0</td>\n",
       "      <td>1.000000</td>\n",
       "      <td>2.000000</td>\n",
       "      <td>1.000000</td>\n",
       "      <td>1.0</td>\n",
       "      <td>1.000000</td>\n",
       "      <td>1.216352</td>\n",
       "      <td>1.12952</td>\n",
       "      <td>1.260139</td>\n",
       "      <td>4.020007</td>\n",
       "    </tr>\n",
       "    <tr>\n",
       "      <th>1755</th>\n",
       "      <td>89</td>\n",
       "      <td>False</td>\n",
       "      <td>17000000</td>\n",
       "      <td>-4159158</td>\n",
       "      <td>0</td>\n",
       "      <td>0</td>\n",
       "      <td>0</td>\n",
       "      <td>0</td>\n",
       "      <td>0</td>\n",
       "      <td>0</td>\n",
       "      <td>...</td>\n",
       "      <td>2.0</td>\n",
       "      <td>3.136387</td>\n",
       "      <td>3.294106</td>\n",
       "      <td>1.000000</td>\n",
       "      <td>1.0</td>\n",
       "      <td>1.384421</td>\n",
       "      <td>1.216352</td>\n",
       "      <td>1.00000</td>\n",
       "      <td>0.938085</td>\n",
       "      <td>2.539404</td>\n",
       "    </tr>\n",
       "    <tr>\n",
       "      <th>1756</th>\n",
       "      <td>130</td>\n",
       "      <td>False</td>\n",
       "      <td>10000000</td>\n",
       "      <td>22613173</td>\n",
       "      <td>0</td>\n",
       "      <td>0</td>\n",
       "      <td>0</td>\n",
       "      <td>0</td>\n",
       "      <td>0</td>\n",
       "      <td>0</td>\n",
       "      <td>...</td>\n",
       "      <td>20.0</td>\n",
       "      <td>4.000000</td>\n",
       "      <td>4.000000</td>\n",
       "      <td>7.000000</td>\n",
       "      <td>1.0</td>\n",
       "      <td>1.384421</td>\n",
       "      <td>1.000000</td>\n",
       "      <td>1.12952</td>\n",
       "      <td>1.144676</td>\n",
       "      <td>3.587734</td>\n",
       "    </tr>\n",
       "    <tr>\n",
       "      <th>1757</th>\n",
       "      <td>101</td>\n",
       "      <td>False</td>\n",
       "      <td>25000000</td>\n",
       "      <td>34192128</td>\n",
       "      <td>0</td>\n",
       "      <td>0</td>\n",
       "      <td>0</td>\n",
       "      <td>1</td>\n",
       "      <td>0</td>\n",
       "      <td>0</td>\n",
       "      <td>...</td>\n",
       "      <td>4.0</td>\n",
       "      <td>1.000000</td>\n",
       "      <td>1.000000</td>\n",
       "      <td>2.579003</td>\n",
       "      <td>1.0</td>\n",
       "      <td>1.384421</td>\n",
       "      <td>1.000000</td>\n",
       "      <td>1.12952</td>\n",
       "      <td>1.520080</td>\n",
       "      <td>3.029504</td>\n",
       "    </tr>\n",
       "  </tbody>\n",
       "</table>\n",
       "<p>5 rows × 63 columns</p>\n",
       "</div>"
      ],
      "text/plain": [
       "      runtime  adult    budget    profit  Action  Adventure  Animation  \\\n",
       "1753       88  False  30000000 -17048912       1          0          0   \n",
       "1754      130  False   1288000   6304465       0          0          0   \n",
       "1755       89  False  17000000  -4159158       0          0          0   \n",
       "1756      130  False  10000000  22613173       0          0          0   \n",
       "1757      101  False  25000000  34192128       0          0          0   \n",
       "\n",
       "      Comedy  Crime  Documentary  ...  actor_total  actor_blockbuster  \\\n",
       "1753       0      0            0  ...          7.0           1.000000   \n",
       "1754       0      0            0  ...          5.0           1.000000   \n",
       "1755       0      0            0  ...          2.0           3.136387   \n",
       "1756       0      0            0  ...         20.0           4.000000   \n",
       "1757       1      0            0  ...          4.0           1.000000   \n",
       "\n",
       "      actor_success  actor_flop  dir_act_total  dir_act_blockbuster  \\\n",
       "1753       2.000000    4.000000            1.0             1.384421   \n",
       "1754       2.000000    1.000000            1.0             1.000000   \n",
       "1755       3.294106    1.000000            1.0             1.384421   \n",
       "1756       4.000000    7.000000            1.0             1.384421   \n",
       "1757       1.000000    2.579003            1.0             1.384421   \n",
       "\n",
       "      dir_act_success  dir_act_flop  popularity_pct  avg_rating  \n",
       "1753         1.216352       1.00000        1.056015    3.199801  \n",
       "1754         1.216352       1.12952        1.260139    4.020007  \n",
       "1755         1.216352       1.00000        0.938085    2.539404  \n",
       "1756         1.000000       1.12952        1.144676    3.587734  \n",
       "1757         1.000000       1.12952        1.520080    3.029504  \n",
       "\n",
       "[5 rows x 63 columns]"
      ]
     },
     "execution_count": 65,
     "metadata": {},
     "output_type": "execute_result"
    }
   ],
   "source": [
    "X_noy =  train_filtered.drop('success_level', axis=1)\n",
    "#X_without_text_columns = X_noy.select_dtypes(exclude=['object'])\n",
    "Y = train_data[['success_level']]\n",
    "#X_without_text_columns.head()\n",
    "X = X_noy.drop(['id','revenue','budget_millions','revenue_millions','ordering_x','ordering_y','roi','vote_average',\t'vote_count','popularity','revenue'], axis=1)\n",
    "#X_train = X.fillna(X.mean())\n",
    "#[X.select_dtypes(include=['number']).columns] = X.select_dtypes(include=['number']).fillna(X.mean())\n",
    "# Select numeric columns only\n",
    "numeric_cols = X.select_dtypes(include=['number']).columns\n",
    "\n",
    "# Fill missing values in numeric columns with the mean of each column\n",
    "X[numeric_cols] = X[numeric_cols].fillna(X[numeric_cols].mean())\n",
    "X.head()"
   ]
  },
  {
   "cell_type": "code",
   "execution_count": 67,
   "id": "cd2b8015-c80c-46ed-a233-af1312c37dc4",
   "metadata": {},
   "outputs": [
    {
     "data": {
      "text/plain": [
       "1753            Kevin Hooks\n",
       "1754       Alfred Hitchcock\n",
       "1755          Robert Harmon\n",
       "1756           Jeff Nichols\n",
       "1757          Mark Helfrich\n",
       "               ...         \n",
       "9928            Amal Neerad\n",
       "9929         Clint Eastwood\n",
       "9930    Jean-Jacques Annaud\n",
       "9931          Patty Jenkins\n",
       "9932         Hany Abu-Assad\n",
       "Name: dir1Name, Length: 8180, dtype: category\n",
       "Categories (4003, object): ['A. Bhimsingh', 'A. Karunakaran', 'A.L. Vijay', 'A.R. Murugadoss', ..., 'Édouard Molinaro', 'Émile Gaudreault', 'Ömer Faruk Sorak', 'Ümit Utku']"
      ]
     },
     "execution_count": 67,
     "metadata": {},
     "output_type": "execute_result"
    }
   ],
   "source": [
    "#X.columns\n",
    "X[\"actor1Name\"].astype(\"category\")\n",
    "X[\"dir1Name\"].astype(\"category\")"
   ]
  },
  {
   "cell_type": "code",
   "execution_count": 37,
   "id": "4dc34639-3db7-49d3-977c-0f8e7e9e62bc",
   "metadata": {},
   "outputs": [],
   "source": [
    "# def stepwise_selection(X_train, y_train, threshold_in=0.05, threshold_out=0.05):\n",
    "#     \"\"\"\n",
    "#     Perform stepwise regression: Both forward and backward selection.\n",
    "    \n",
    "#     X_train : Training dataset with the intercept\n",
    "#     y_train : Target variable\n",
    "#     threshold_in : Entry p-value threshold for a feature to enter the model\n",
    "#     threshold_out : Exit p-value threshold for a feature to be removed\n",
    "#     \"\"\"\n",
    "#     initial_features = X_train.columns.tolist()\n",
    "#     included = list(initial_features)\n",
    "#     while True:\n",
    "#         changed = False\n",
    "#         # Forward step: Add features that improve the model\n",
    "#         excluded = list(set(initial_features) - set(included))\n",
    "#         new_pval = pd.Series(index=excluded)\n",
    "#         for new_col in excluded:\n",
    "#             model = sm.Logit(y_train, X_train[included + [new_col]]).fit(disp=False)\n",
    "#             new_pval[new_col] = model.pvalues[new_col]\n",
    "#         min_pval = new_pval.min()\n",
    "#         if min_pval < threshold_in:\n",
    "#             best_feature = new_pval.idxmin()\n",
    "#             included.append(best_feature)\n",
    "#             changed = True\n",
    "\n",
    "#         # Backward step: Remove features that have a high p-value\n",
    "#         model = sm.Logit(y_train, X_train[included]).fit(disp=False)\n",
    "#         pvalues = model.pvalues[1:]  # exclude intercept\n",
    "#         max_pval = pvalues.max()\n",
    "#         if max_pval > threshold_out:\n",
    "#             worst_feature = pvalues.idxmax()\n",
    "#             included.remove(worst_feature)\n",
    "#             changed = True\n",
    "        \n",
    "#         if not changed:\n",
    "#             break\n",
    "#     return included"
   ]
  },
  {
   "cell_type": "code",
   "execution_count": 39,
   "id": "5e9f6640-bf92-457d-992e-d6200b444ac5",
   "metadata": {},
   "outputs": [],
   "source": [
    "# selected_features = stepwise_selection(X, Y)\n",
    "# print(f\"Selected features: {selected_features}\")"
   ]
  },
  {
   "cell_type": "code",
   "execution_count": 41,
   "id": "bec4c704-c636-49ad-9f71-45ef2f9d9969",
   "metadata": {},
   "outputs": [],
   "source": [
    "#X = X.drop(['vote_average', 'vote_count','popularity', 'profit','popularity_pct', 'avg_rating','roi'], axis=1)"
   ]
  },
  {
   "cell_type": "code",
   "execution_count": null,
   "id": "f1db4546-dfd7-4c9d-9cd0-08bf0898cd73",
   "metadata": {},
   "outputs": [],
   "source": [
    "label_encoder = LabelEncoder()\n",
    "Y_numeric = label_encoder.fit_transform(Y)\n",
    "xgb = XGBClassifier(objective='multi:softmax', num_class=3, eval_metric='mlogloss', use_label_encoder=False,enable_categorical=True, random_state=42)\n",
    "sfs = SequentialFeatureSelector(xgb,\n",
    "                                k_features=10,\n",
    "                                forward=True,\n",
    "                                scoring='accuracy',\n",
    "                               # max_iter=100,\n",
    "                                cv=5)\n",
    "selected_features = sfs.fit(X, Y_numeric)\n",
    "print(selected_features.k_feature_names_)"
   ]
  },
  {
   "cell_type": "code",
   "execution_count": 50,
   "id": "b3226cf0-f503-4775-938d-5436ea9d7efb",
   "metadata": {},
   "outputs": [
    {
     "name": "stdout",
     "output_type": "stream",
     "text": [
      "('vote_count', 'adult', 'profit', 'Animation', 'Crime', 'Documentary', 'Family', 'Fantasy', 'roi', 'dir_act_success')\n"
     ]
    }
   ],
   "source": [
    "print(selected_features.k_feature_names_)"
   ]
  },
  {
   "cell_type": "code",
   "execution_count": 69,
   "id": "0eb26f89-2996-4bfe-a4a4-fddfd50c3e60",
   "metadata": {
    "scrolled": true
   },
   "outputs": [
    {
     "data": {
      "text/plain": [
       "array([6.0960173e-04, 0.0000000e+00, 4.4676932e-03, 7.7459849e-02,\n",
       "       1.6994993e-03, 7.1584817e-04, 0.0000000e+00, 5.4120412e-04,\n",
       "       5.3751038e-04, 2.7502964e-03, 6.0804788e-04, 4.6617333e-03,\n",
       "       1.0842740e-03, 0.0000000e+00, 1.8810080e-03, 6.7159941e-04,\n",
       "       4.9250980e-04, 1.6818445e-03, 2.5845615e-03, 0.0000000e+00,\n",
       "       1.5440304e-04, 0.0000000e+00, 0.0000000e+00, 0.0000000e+00,\n",
       "       0.0000000e+00, 8.6966524e-05, 0.0000000e+00, 0.0000000e+00,\n",
       "       3.6602495e-03, 0.0000000e+00, 0.0000000e+00, 8.1356976e-04,\n",
       "       0.0000000e+00, 6.4255076e-04, 0.0000000e+00, 1.1356123e-03,\n",
       "       7.8088872e-04, 2.0516974e-04, 0.0000000e+00, 0.0000000e+00,\n",
       "       8.1524166e-04, 3.5374510e-04, 2.1593127e-04, 7.2017475e-04,\n",
       "       1.3889993e-03, 0.0000000e+00, 2.7346707e-04, 5.7529093e-04,\n",
       "       6.7200117e-02, 1.2295599e-03, 1.6853495e-03, 1.4506375e-04,\n",
       "       8.6126835e-05, 7.4702362e-04, 1.1338197e-04, 5.7276653e-04,\n",
       "       7.1923324e-04, 5.7210006e-02, 3.6650676e-01, 3.8699645e-01,\n",
       "       8.5326843e-04, 7.5052702e-04, 9.1500726e-04], dtype=float32)"
      ]
     },
     "execution_count": 69,
     "metadata": {},
     "output_type": "execute_result"
    }
   ],
   "source": [
    "categorical_cols = X.select_dtypes(include=['object']).columns\n",
    "\n",
    "label_encoder = LabelEncoder()\n",
    "\n",
    "# Apply LabelEncoder to each categorical column\n",
    "for col in categorical_cols:\n",
    "    X[col] = label_encoder.fit_transform(X[col])\n",
    "\n",
    "xgb = XGBClassifier(objective='multi:softmax', num_class=3, eval_metric='mlogloss', use_label_encoder=False,enable_categorical=True, random_state=42)\n",
    "xgb.fit(X, Y_numeric)\n",
    "# Must use JSON/UBJSON for serialization, otherwise the information is lost.\n",
    "y_train_pred = xgb.predict(X)\n",
    "xgb.save_model(\"XGBoost-model.json\")\n",
    "xgb.feature_importances_"
   ]
  },
  {
   "cell_type": "code",
   "execution_count": 71,
   "id": "85473d32-b132-4e18-84e6-1828712494c2",
   "metadata": {},
   "outputs": [
    {
     "name": "stdout",
     "output_type": "stream",
     "text": [
      "Training accuracy: 100.00%\n"
     ]
    }
   ],
   "source": [
    "train_accuracy = accuracy_score(y_train_pred, Y_numeric)\n",
    "\n",
    "print(f\"Training accuracy: {train_accuracy * 100:.2f}%\")"
   ]
  },
  {
   "cell_type": "code",
   "execution_count": 74,
   "id": "6087a449-53ee-4f89-ab77-53fdf71e6066",
   "metadata": {},
   "outputs": [],
   "source": [
    "\n",
    "\n",
    "# List of text columns to keep\n",
    "columns_to_keep = ['actor1Name','dir1Name','success_level']\n",
    "\n",
    "# Identify all columns with text (object) data type\n",
    "text_columns = validate_data.select_dtypes(include=['object']).columns\n",
    "\n",
    "# Drop text columns except the ones in the keep list\n",
    "columns_to_drop = [col for col in text_columns if col not in columns_to_keep]\n",
    "validate_filtered = validate_data.drop(columns=columns_to_drop)\n"
   ]
  },
  {
   "cell_type": "code",
   "execution_count": 75,
   "id": "68b52096",
   "metadata": {},
   "outputs": [
    {
     "data": {
      "text/plain": [
       "9933          Kari Paljakka\n",
       "9934            Trey Parker\n",
       "9935         H. Gordon Boos\n",
       "9936     John Francis Daley\n",
       "9937                    NaN\n",
       "                ...        \n",
       "11680        James McTeigue\n",
       "11681      Philippe Lacheau\n",
       "11682    Payut Ngaokrachang\n",
       "11683       Jacques Audiard\n",
       "11684          Nancy Meyers\n",
       "Name: dir1Name, Length: 1752, dtype: category\n",
       "Categories (1262, object): ['A. Edward Sutherland', 'A. Raja', 'Aanand L. Rai', 'Aaron Blaise', ..., 'Álex de la Iglesia', 'Éric Tessier', 'Ömer Ali Kazma', 'Ülkü Erakalin']"
      ]
     },
     "execution_count": 75,
     "metadata": {},
     "output_type": "execute_result"
    }
   ],
   "source": [
    "X_val_noy =  validate_filtered.drop('success_level', axis=1)\n",
    "#X_without_text_columns = X_noy.select_dtypes(exclude=['object'])\n",
    "Y_val = validate_data[['success_level']]\n",
    "#X_without_text_columns.head()\n",
    "X_val = X_val_noy.drop(['id','revenue','budget_millions','revenue_millions','ordering_x','ordering_y','roi','vote_average',\t'vote_count','popularity','revenue'], axis=1)\n",
    "#X_train = X.fillna(X.mean())\n",
    "#[X.select_dtypes(include=['number']).columns] = X.select_dtypes(include=['number']).fillna(X.mean())\n",
    "# Select numeric columns only\n",
    "numeric_cols = X_val.select_dtypes(include=['number']).columns\n",
    "\n",
    "# Fill missing values in numeric columns with the mean of each column\n",
    "X_val[numeric_cols] = X_val[numeric_cols].fillna(X_val[numeric_cols].mean())\n",
    "X_val.head()\n",
    "X_val[\"actor1Name\"].astype(\"category\")\n",
    "X_val[\"dir1Name\"].astype(\"category\")"
   ]
  },
  {
   "cell_type": "code",
   "execution_count": 79,
   "id": "adc09d32-88c1-491f-a903-9114d49ea9d3",
   "metadata": {},
   "outputs": [],
   "source": [
    "categorical_cols = X_val.select_dtypes(include=['object']).columns\n",
    "\n",
    "label_encoder = LabelEncoder()\n",
    "\n",
    "# Apply LabelEncoder to each categorical column\n",
    "for col in categorical_cols:\n",
    "    X_val[col] = label_encoder.fit_transform(X_val[col])\n",
    "#label_encoder = LabelEncoder()\n",
    "Y_val_numeric = label_encoder.fit_transform(Y_val)\n",
    "#xgb = XGBClassifier(objective='multi:softmax', num_class=3, eval_metric='mlogloss', use_label_encoder=False,enable_categorical=True, random_state=42)\n",
    "#xgb.fit(X, Y_numeric)\n",
    "# Must use JSON/UBJSON for serialization, otherwise the information is lost.\n",
    "#y_train_pred = xgb.predict(X)\n",
    "#xgb.save_model(\"XGBoost-model.json\")\n",
    "#xgb.feature_importances_"
   ]
  },
  {
   "cell_type": "code",
   "execution_count": 81,
   "id": "d3941103-86c0-413c-8303-f6f1a3945adf",
   "metadata": {},
   "outputs": [
    {
     "name": "stdout",
     "output_type": "stream",
     "text": [
      "Fitting 3 folds for each of 11664 candidates, totalling 34992 fits\n",
      "Best parameters found:  {'colsample_bytree': 0.8, 'gamma': 0.1, 'learning_rate': 0.2, 'max_depth': 9, 'min_child_weight': 3, 'n_estimators': 100, 'scale_pos_weight': 1, 'subsample': 1.0}\n",
      "Best accuracy found:  0.9748858447488584\n"
     ]
    }
   ],
   "source": [
    "param_grid = {\n",
    "    'learning_rate': [0.01, 0.05, 0.1, 0.2],  # eta\n",
    "    'n_estimators': [50, 100, 200, 300],      # Number of boosting rounds\n",
    "    'max_depth': [3, 6, 9],                    # Maximum depth of each tree\n",
    "    'min_child_weight': [1, 3, 5],              # Minimum sum of instance weight in a child\n",
    "    'subsample': [0.6, 0.8, 1.0],              # Fraction of samples for fitting each tree\n",
    "    'colsample_bytree': [0.6, 0.8, 1.0],       # Fraction of features used for each tree\n",
    "    'gamma': [0, 0.1, 0.2],                   # Minimum loss reduction required to make further partitions\n",
    "    'scale_pos_weight': [1, 2, 5]              # Adjusts weights for imbalanced datasets\n",
    "}\n",
    "\n",
    "# Set up GridSearchCV\n",
    "grid_search = GridSearchCV(estimator=xgb, param_grid=param_grid, cv=3, scoring='accuracy', n_jobs=-1, verbose=1)\n",
    "\n",
    "# Fit the model\n",
    "grid_search.fit(X_val, Y_val_numeric)\n",
    "\n",
    "# Get the best parameters\n",
    "print(\"Best parameters found: \", grid_search.best_params_)\n",
    "\n",
    "# Get the best score\n",
    "print(\"Best accuracy found: \", grid_search.best_score_)\n",
    "\n",
    "# Evaluate on the test set (optional)\n",
    "#best_model = grid_search.best_estimator_\n",
    "#y_pred = best_model.predict(X_test)"
   ]
  },
  {
   "cell_type": "code",
   "execution_count": 83,
   "id": "a1b8e991-6d8c-4010-ac64-e4d91c493e8f",
   "metadata": {},
   "outputs": [],
   "source": [
    "best_model = grid_search.best_estimator_\n",
    "#y_pred = best_model.predict(X_test)"
   ]
  },
  {
   "cell_type": "code",
   "execution_count": 85,
   "id": "ccdbaf4c-3a61-40bd-947c-48a8783ace49",
   "metadata": {},
   "outputs": [],
   "source": [
    "\n",
    "\n",
    "# List of text columns to keep\n",
    "columns_to_keep = ['actor1Name','dir1Name','success_level']\n",
    "\n",
    "# Identify all columns with text (object) data type\n",
    "text_columns = test_data.select_dtypes(include=['object']).columns\n",
    "\n",
    "# Drop text columns except the ones in the keep list\n",
    "columns_to_drop = [col for col in text_columns if col not in columns_to_keep]\n",
    "test_filtered = test_data.drop(columns=columns_to_drop)"
   ]
  },
  {
   "cell_type": "code",
   "execution_count": 99,
   "id": "97eb2ec9-3337-46a0-9021-f91559e79b4a",
   "metadata": {},
   "outputs": [
    {
     "data": {
      "text/plain": [
       "0                    King Vidor\n",
       "1                    Aziz Mirza\n",
       "2                      Bob Rose\n",
       "3                   Archie Mayo\n",
       "4                   Shana Feste\n",
       "                 ...           \n",
       "1748            Gianluca Leuzzi\n",
       "1749                        NaN\n",
       "1750                 Fred Niblo\n",
       "1751               Renny Harlin\n",
       "1752    Rakeysh Omprakash Mehra\n",
       "Name: dir1Name, Length: 1753, dtype: category\n",
       "Categories (1249, object): ['A. Sarkunam', 'Aaron Norris', 'Abbas Alibhai Burmawalla', 'Abbas Tyrewala', ..., 'Ángel de la Cruz', 'Çetin Inanç', 'Éric Besnard', 'Øystein Stene']"
      ]
     },
     "execution_count": 99,
     "metadata": {},
     "output_type": "execute_result"
    }
   ],
   "source": [
    "X_test_noy =  test_filtered.drop('success_level', axis=1)\n",
    "#X_without_text_columns = X_noy.select_dtypes(exclude=['object'])\n",
    "Y_test = test_data[['success_level']]\n",
    "Y_test_numeric = label_encoder.fit_transform(Y_test)\n",
    "#X_without_text_columns.head()\n",
    "X_test = X_test_noy.drop(['id','revenue','budget_millions','revenue_millions','ordering_x','ordering_y','roi','vote_average',\t'vote_count','popularity','revenue'], axis=1)\n",
    "#X_train = X.fillna(X.mean())\n",
    "#[X.select_dtypes(include=['number']).columns] = X.select_dtypes(include=['number']).fillna(X.mean())\n",
    "# Select numeric columns only\n",
    "numeric_cols = X_test.select_dtypes(include=['number']).columns\n",
    "\n",
    "# Fill missing values in numeric columns with the mean of each column\n",
    "X_test[numeric_cols] = X_test[numeric_cols].fillna(X_test[numeric_cols].mean())\n",
    "X_test.head()\n",
    "X_test[\"actor1Name\"].astype(\"category\")\n",
    "X_test[\"dir1Name\"].astype(\"category\")"
   ]
  },
  {
   "cell_type": "code",
   "execution_count": 103,
   "id": "7df3cff7-a561-4a50-a692-d176517457bf",
   "metadata": {},
   "outputs": [
    {
     "data": {
      "text/plain": [
       "(1753, 63)"
      ]
     },
     "execution_count": 103,
     "metadata": {},
     "output_type": "execute_result"
    }
   ],
   "source": [
    "X_test.shape\n",
    "#Y_test_numeric.shape"
   ]
  },
  {
   "cell_type": "code",
   "execution_count": 105,
   "id": "7223d240-0501-4179-8a45-13fd845a9666",
   "metadata": {},
   "outputs": [],
   "source": [
    "categorical_cols = X_test.select_dtypes(include=['object']).columns\n",
    "\n",
    "label_encoder = LabelEncoder()\n",
    "\n",
    "# Apply LabelEncoder to each categorical column\n",
    "for col in categorical_cols:\n",
    "    X_test[col] = label_encoder.fit_transform(X_test[col])\n",
    "\n",
    "#xgb = XGBClassifier(objective='multi:softmax', num_class=3, eval_metric='mlogloss', use_label_encoder=False,enable_categorical=True, random_state=42)\n",
    "#xgb.fit(X, Y_numeric)\n",
    "# Must use JSON/UBJSON for serialization, otherwise the information is lost.\n",
    "#y_train_pred = xgb.predict(X)\n",
    "#xgb.save_model(\"XGBoost-model.json\")\n",
    "#xgb.feature_importances_"
   ]
  },
  {
   "cell_type": "code",
   "execution_count": 107,
   "id": "a77102c9-87db-4d38-a1a7-9e0eacc3a458",
   "metadata": {},
   "outputs": [
    {
     "name": "stdout",
     "output_type": "stream",
     "text": [
      "test accuracy: 96.75%\n"
     ]
    }
   ],
   "source": [
    "y_test_pred = best_model.predict(X_test)\n",
    "test_accuracy = accuracy_score(y_test_pred, Y_test_numeric)\n",
    "\n",
    "print(f\"test accuracy: {test_accuracy * 100:.2f}%\")"
   ]
  },
  {
   "cell_type": "code",
   "execution_count": 130,
   "id": "e79f82f2-ded4-4bc1-a2de-b62a24dfd2b3",
   "metadata": {},
   "outputs": [
    {
     "name": "stdout",
     "output_type": "stream",
     "text": [
      "Training accuracy: 98.96%\n"
     ]
    }
   ],
   "source": [
    "xgb.fit(X_train, Y_numeric)\n",
    "# Make predictions on the training set\n",
    "y_train_pred = xgb.predict(X_train)\n",
    "\n",
    "# Calculate the accuracy on the training data\n",
    "train_accuracy = accuracy_score(y_train_pred, Y_numeric)\n",
    "\n",
    "print(f\"Training accuracy: {train_accuracy * 100:.2f}%\")"
   ]
  },
  {
   "cell_type": "code",
   "execution_count": null,
   "id": "405da7c3-1872-4080-92cf-3d0946308936",
   "metadata": {},
   "outputs": [],
   "source": [
    "confusion_matrix(y_test, y_pred)"
   ]
  }
 ],
 "metadata": {
  "kernelspec": {
   "display_name": "Python 3 (ipykernel)",
   "language": "python",
   "name": "python3"
  },
  "language_info": {
   "codemirror_mode": {
    "name": "ipython",
    "version": 3
   },
   "file_extension": ".py",
   "mimetype": "text/x-python",
   "name": "python",
   "nbconvert_exporter": "python",
   "pygments_lexer": "ipython3",
   "version": "3.12.7"
  }
 },
 "nbformat": 4,
 "nbformat_minor": 5
}
